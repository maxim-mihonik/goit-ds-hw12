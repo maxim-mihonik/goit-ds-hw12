{
 "cells": [
  {
   "cell_type": "code",
   "execution_count": 1,
   "metadata": {},
   "outputs": [],
   "source": [
    "import spacy\n",
    "import nltk\n",
    "from nltk.corpus import stopwords\n",
    "from nltk.tokenize import word_tokenize, sent_tokenize\n",
    "from string import punctuation\n",
    "from heapq import nlargest"
   ]
  },
  {
   "cell_type": "code",
   "execution_count": 2,
   "metadata": {},
   "outputs": [],
   "source": [
    "nlp = spacy.load('en_core_web_sm')"
   ]
  },
  {
   "cell_type": "code",
   "execution_count": 3,
   "metadata": {},
   "outputs": [
    {
     "name": "stderr",
     "output_type": "stream",
     "text": [
      "[nltk_data] Downloading package punkt to\n",
      "[nltk_data]     C:\\Users\\maxim\\AppData\\Roaming\\nltk_data...\n",
      "[nltk_data]   Package punkt is already up-to-date!\n"
     ]
    },
    {
     "data": {
      "text/plain": [
       "True"
      ]
     },
     "execution_count": 3,
     "metadata": {},
     "output_type": "execute_result"
    }
   ],
   "source": [
    "nltk.download('punkt')"
   ]
  },
  {
   "cell_type": "code",
   "execution_count": 4,
   "metadata": {},
   "outputs": [
    {
     "name": "stderr",
     "output_type": "stream",
     "text": [
      "[nltk_data] Downloading package stopwords to\n",
      "[nltk_data]     C:\\Users\\maxim\\AppData\\Roaming\\nltk_data...\n",
      "[nltk_data]   Package stopwords is already up-to-date!\n"
     ]
    },
    {
     "data": {
      "text/plain": [
       "True"
      ]
     },
     "execution_count": 4,
     "metadata": {},
     "output_type": "execute_result"
    }
   ],
   "source": [
    "nltk.download('stopwords')"
   ]
  },
  {
   "cell_type": "code",
   "execution_count": 5,
   "metadata": {},
   "outputs": [
    {
     "name": "stderr",
     "output_type": "stream",
     "text": [
      "[nltk_data] Error loading punctuation: Package 'punctuation' not found\n",
      "[nltk_data]     in index\n"
     ]
    },
    {
     "data": {
      "text/plain": [
       "False"
      ]
     },
     "execution_count": 5,
     "metadata": {},
     "output_type": "execute_result"
    }
   ],
   "source": [
    "nltk.download('punctuation')"
   ]
  },
  {
   "cell_type": "code",
   "execution_count": 6,
   "metadata": {},
   "outputs": [],
   "source": [
    "text = \"\"\"The Orbiter Discovery, OV-103, is considered eligible for listing in the National Register of Historic Places (NRHP) in the context of the U.S. Space Shuttle Program (1969-2011) under Criterion A in the areas of Space Exploration and Transportation and under Criterion C in the area of Engineering. Because it has achieved significance within the past fifty years, Criteria Consideration G applies. Under Criterion A, Discovery is significant as the oldest of the three extant orbiter vehicles constructed for the Space Shuttle Program (SSP), the longest running American space program to date; she was the third of five orbiters built by NASA. Unlike the Mercury, Gemini, and Apollo programs, the SSP’s emphasis was on cost effectiveness and reusability, and eventually the construction of a space station. Including her maiden voyage (launched August 30, 1984), Discovery flew to space thirty-nine times, more than any of the other four orbiters; she was also the first orbiter to fly twenty missions. She had the honor of being chosen as the Return to Flight vehicle after both the Challenger and Columbia accidents. Discovery was the first shuttle to fly with the redesigned SRBs, a result of the Challenger accident, and the first shuttle to fly with the Phase II and Block I SSME. Discovery also carried the Hubble Space Telescope to orbit and performed two of the five servicing missions to the observatory. She flew the first and last dedicated Department of Defense (DoD) missions, as well as the first unclassified defense-related mission. In addition, Discovery was vital to the construction of the International Space Station (ISS); she flew thirteen of the thirty-seven total missions flown to the station by a U.S. Space Shuttle. She was the first orbiter to dock to the ISS, and the first to perform an exchange of a resident crew. Under Criterion C, Discovery is significant as a feat of engineering. According to Wayne Hale, a flight director from Johnson Space Center, the Space Shuttle orbiter represents a “huge technological leap from expendable rockets and capsules to a reusable, winged, hypersonic, cargo-carrying spacecraft.” Although her base structure followed a conventional aircraft design, she used advanced materials that both minimized her weight for cargo-carrying purposes and featured low thermal expansion ratios, which provided a stable base for her Thermal Protection System (TPS) materials. The Space Shuttle orbiter also featured the first reusable TPS; all previous spaceflight vehicles had a single-use, ablative heat shield. Other notable engineering achievements of the orbiter included the first reusable orbital propulsion system, and the first two-fault-tolerant Integrated Avionics System. As Hale stated, the Space Shuttle remains “the largest, fastest, winged hypersonic aircraft in history,” having regularly flown at twenty-five times the speed of sound.\"\"\""
   ]
  },
  {
   "cell_type": "code",
   "execution_count": 7,
   "metadata": {},
   "outputs": [
    {
     "name": "stdout",
     "output_type": "stream",
     "text": [
      "['The', 'Orbiter', 'Discovery', ',', 'OV-103', ',', 'is', 'considered', 'eligible', 'for', 'listing', 'in', 'the', 'National', 'Register', 'of', 'Historic', 'Places', '(', 'NRHP', ')', 'in', 'the', 'context', 'of', 'the', 'U.S.', 'Space', 'Shuttle', 'Program', '(', '1969', '-', '2011', ')', 'under', 'Criterion', 'A', 'in', 'the', 'areas', 'of', 'Space', 'Exploration', 'and', 'Transportation', 'and', 'under', 'Criterion', 'C', 'in', 'the', 'area', 'of', 'Engineering', '.', 'Because', 'it', 'has', 'achieved', 'significance', 'within', 'the', 'past', 'fifty', 'years', ',', 'Criteria', 'Consideration', 'G', 'applies', '.', 'Under', 'Criterion', 'A', ',', 'Discovery', 'is', 'significant', 'as', 'the', 'oldest', 'of', 'the', 'three', 'extant', 'orbiter', 'vehicles', 'constructed', 'for', 'the', 'Space', 'Shuttle', 'Program', '(', 'SSP', ')', ',', 'the', 'longest', 'running', 'American', 'space', 'program', 'to', 'date', ';', 'she', 'was', 'the', 'third', 'of', 'five', 'orbiters', 'built', 'by', 'NASA', '.', 'Unlike', 'the', 'Mercury', ',', 'Gemini', ',', 'and', 'Apollo', 'programs', ',', 'the', 'SSP', '’s', 'emphasis', 'was', 'on', 'cost', 'effectiveness', 'and', 'reusability', ',', 'and', 'eventually', 'the', 'construction', 'of', 'a', 'space', 'station', '.', 'Including', 'her', 'maiden', 'voyage', '(', 'launched', 'August', '30', ',', '1984', ')', ',', 'Discovery', 'flew', 'to', 'space', 'thirty', '-', 'nine', 'times', ',', 'more', 'than', 'any', 'of', 'the', 'other', 'four', 'orbiters', ';', 'she', 'was', 'also', 'the', 'first', 'orbiter', 'to', 'fly', 'twenty', 'missions', '.', 'She', 'had', 'the', 'honor', 'of', 'being', 'chosen', 'as', 'the', 'Return', 'to', 'Flight', 'vehicle', 'after', 'both', 'the', 'Challenger', 'and', 'Columbia', 'accidents', '.', 'Discovery', 'was', 'the', 'first', 'shuttle', 'to', 'fly', 'with', 'the', 'redesigned', 'SRBs', ',', 'a', 'result', 'of', 'the', 'Challenger', 'accident', ',', 'and', 'the', 'first', 'shuttle', 'to', 'fly', 'with', 'the', 'Phase', 'II', 'and', 'Block', 'I', 'SSME', '.', 'Discovery', 'also', 'carried', 'the', 'Hubble', 'Space', 'Telescope', 'to', 'orbit', 'and', 'performed', 'two', 'of', 'the', 'five', 'servicing', 'missions', 'to', 'the', 'observatory', '.', 'She', 'flew', 'the', 'first', 'and', 'last', 'dedicated', 'Department', 'of', 'Defense', '(', 'DoD', ')', 'missions', ',', 'as', 'well', 'as', 'the', 'first', 'unclassified', 'defense', '-', 'related', 'mission', '.', 'In', 'addition', ',', 'Discovery', 'was', 'vital', 'to', 'the', 'construction', 'of', 'the', 'International', 'Space', 'Station', '(', 'ISS', ')', ';', 'she', 'flew', 'thirteen', 'of', 'the', 'thirty', '-', 'seven', 'total', 'missions', 'flown', 'to', 'the', 'station', 'by', 'a', 'U.S.', 'Space', 'Shuttle', '.', 'She', 'was', 'the', 'first', 'orbiter', 'to', 'dock', 'to', 'the', 'ISS', ',', 'and', 'the', 'first', 'to', 'perform', 'an', 'exchange', 'of', 'a', 'resident', 'crew', '.', 'Under', 'Criterion', 'C', ',', 'Discovery', 'is', 'significant', 'as', 'a', 'feat', 'of', 'engineering', '.', 'According', 'to', 'Wayne', 'Hale', ',', 'a', 'flight', 'director', 'from', 'Johnson', 'Space', 'Center', ',', 'the', 'Space', 'Shuttle', 'orbiter', 'represents', 'a', '“', 'huge', 'technological', 'leap', 'from', 'expendable', 'rockets', 'and', 'capsules', 'to', 'a', 'reusable', ',', 'winged', ',', 'hypersonic', ',', 'cargo', '-', 'carrying', 'spacecraft', '.', '”', 'Although', 'her', 'base', 'structure', 'followed', 'a', 'conventional', 'aircraft', 'design', ',', 'she', 'used', 'advanced', 'materials', 'that', 'both', 'minimized', 'her', 'weight', 'for', 'cargo', '-', 'carrying', 'purposes', 'and', 'featured', 'low', 'thermal', 'expansion', 'ratios', ',', 'which', 'provided', 'a', 'stable', 'base', 'for', 'her', 'Thermal', 'Protection', 'System', '(', 'TPS', ')', 'materials', '.', 'The', 'Space', 'Shuttle', 'orbiter', 'also', 'featured', 'the', 'first', 'reusable', 'TPS', ';', 'all', 'previous', 'spaceflight', 'vehicles', 'had', 'a', 'single', '-', 'use', ',', 'ablative', 'heat', 'shield', '.', 'Other', 'notable', 'engineering', 'achievements', 'of', 'the', 'orbiter', 'included', 'the', 'first', 'reusable', 'orbital', 'propulsion', 'system', ',', 'and', 'the', 'first', 'two', '-', 'fault', '-', 'tolerant', 'Integrated', 'Avionics', 'System', '.', 'As', 'Hale', 'stated', ',', 'the', 'Space', 'Shuttle', 'remains', '“', 'the', 'largest', ',', 'fastest', ',', 'winged', 'hypersonic', 'aircraft', 'in', 'history', ',', '”', 'having', 'regularly', 'flown', 'at', 'twenty', '-', 'five', 'times', 'the', 'speed', 'of', 'sound', '.']\n"
     ]
    }
   ],
   "source": [
    "doc = nlp(text)\n",
    "tokens = [token.text for token in doc]\n",
    "print(tokens)"
   ]
  },
  {
   "cell_type": "code",
   "execution_count": 8,
   "metadata": {},
   "outputs": [],
   "source": [
    "tokens = word_tokenize(text)\n",
    "sentences = sent_tokenize(text)\n",
    "stop_words = set(stopwords.words('english'))"
   ]
  },
  {
   "cell_type": "code",
   "execution_count": 9,
   "metadata": {},
   "outputs": [],
   "source": [
    "punctuation = punctuation + '\\n'"
   ]
  },
  {
   "cell_type": "code",
   "execution_count": 10,
   "metadata": {},
   "outputs": [],
   "source": [
    "def make_summary_en(for_text, percent):\n",
    "    nlp = spacy.load('en_core_web_sm')\n",
    "    doc= nlp(for_text)\n",
    "    #tokens = [token.text for token in doc]\n",
    "    stop_words = set(stopwords.words('english'))\n",
    "\n",
    "    local_punctuation = punctuation + '\\n'\n",
    "\n",
    "    word_frequencies = {}\n",
    "\n",
    "    for word in doc:\n",
    "        word_text = word.text.lower()\n",
    "        if not (word_text in stop_words or word_text in local_punctuation):\n",
    "            if word_text in word_frequencies.keys():\n",
    "                word_frequencies[word_text] += 1\n",
    "            else:\n",
    "                word_frequencies[word_text] = 1\n",
    "\n",
    "    \n",
    "    # Кажуть, що треба ще зробити нормалізацію\n",
    "    max_freq = max(word_frequencies.values())\n",
    "\n",
    "    for word in word_frequencies.keys():\n",
    "        word_frequencies[word] /= max_freq\n",
    "\n",
    "    \n",
    "    sentences = sent_tokenize(for_text)\n",
    "\n",
    "    sent_scores = {}\n",
    "\n",
    "    for sentence in sentences:\n",
    "        for word in sentence:\n",
    "            word_text = word.lower()\n",
    "\n",
    "            if word_text in word_frequencies.keys():\n",
    "                if sentence in sent_scores.keys():\n",
    "                    sent_scores[sentence] += word_frequencies[word_text]\n",
    "                else:\n",
    "                    sent_scores[sentence] = word_frequencies[word_text]\n",
    "\n",
    "    #for key, value in sent_scores.items():\n",
    "    #    print(key)\n",
    "    #    print(value)\n",
    "\n",
    "    len_sent = int(len(sentences) * percent)\n",
    "\n",
    "    summary = nlargest(len_sent, sent_scores, key = sent_scores.get)\n",
    "\n",
    "    return ' '.join(summary), sent_scores\n",
    "\n"
   ]
  },
  {
   "cell_type": "code",
   "execution_count": 11,
   "metadata": {},
   "outputs": [],
   "source": [
    "def get_ua_stop_words():\n",
    "    return ['і',\n",
    " 'й',\n",
    " 'та',\n",
    " 'в',\n",
    " 'у',\n",
    " 'во',\n",
    " 'ні',\n",
    " 'що',\n",
    " 'він',\n",
    " 'на',\n",
    " 'я',\n",
    " 'з',\n",
    " 'зі',\n",
    " 'із',\n",
    " 'як',\n",
    " 'а',\n",
    " 'то',\n",
    " 'все',\n",
    " 'вона',\n",
    " 'так',\n",
    " 'його',\n",
    " 'але',\n",
    " 'да',\n",
    " 'так',\n",
    " 'ти',\n",
    " 'до',\n",
    " 'у',\n",
    " 'же',\n",
    " 'ви',\n",
    " 'за',\n",
    " 'би',\n",
    " 'по',\n",
    " 'тільки',\n",
    " 'її',\n",
    " 'мені',\n",
    " 'було',\n",
    " 'ось',\n",
    " 'від',\n",
    " 'мене',\n",
    " 'ще',\n",
    " 'ні',\n",
    " 'о',\n",
    " 'про',\n",
    " 'йому',\n",
    " 'тепер',\n",
    " 'коли',\n",
    " 'навіть',\n",
    " 'ну',\n",
    " 'раптом',\n",
    " 'ли',\n",
    " 'якщо',\n",
    " 'уже',\n",
    " 'вже',\n",
    " 'або',\n",
    " 'чи',\n",
    " 'жоден',\n",
    " 'бути',\n",
    " 'був',\n",
    " 'його',\n",
    " 'до',\n",
    " 'вас',\n",
    " 'небудь',\n",
    " 'знов',\n",
    " 'знову',\n",
    " 'уж',\n",
    " 'вам',\n",
    " 'адже',\n",
    " 'там',\n",
    " 'потім',\n",
    " 'себе',\n",
    " 'нічого',\n",
    " 'їй',\n",
    " 'може',\n",
    " 'вони',\n",
    " 'тут',\n",
    " 'де',\n",
    " 'є',\n",
    " 'треба',\n",
    " 'їй',\n",
    " 'для',\n",
    " 'ми',\n",
    " 'тебе',\n",
    " 'їх',\n",
    " 'чим',\n",
    " 'була',\n",
    " 'сам',\n",
    " 'щоб',\n",
    " 'без',\n",
    " 'начебто',\n",
    " 'чого',\n",
    " 'раз',\n",
    " 'також',\n",
    " 'себе',\n",
    " 'під',\n",
    " 'буде',\n",
    " 'ж',\n",
    " 'тоді',\n",
    " 'хто',\n",
    " 'цей',\n",
    " 'цього',\n",
    " 'тому',\n",
    " 'цього',\n",
    " 'какой',\n",
    " 'зовсім',\n",
    " 'ним',\n",
    " 'тут',\n",
    " 'цім',\n",
    " 'один',\n",
    " 'майже',\n",
    " 'мій',\n",
    " 'тим',\n",
    " 'щоб',\n",
    " 'неї',\n",
    " 'зараз',\n",
    " 'були',\n",
    " 'куди',\n",
    " 'навіщо',\n",
    " 'всих',\n",
    " 'ніколи',\n",
    " 'можна',\n",
    " 'при',\n",
    " 'нарешті',\n",
    " 'два',\n",
    " 'об',\n",
    " 'інший',\n",
    " 'хоть',\n",
    " 'після',\n",
    " 'над',\n",
    " 'більше',\n",
    " 'той',\n",
    " 'через',\n",
    " 'ці',\n",
    " 'нас',\n",
    " 'про',\n",
    " 'всього',\n",
    " 'усього',\n",
    " 'них',\n",
    " 'яка',\n",
    " 'багато',\n",
    " 'невже',\n",
    " 'три',\n",
    " 'цю',\n",
    " 'моя',\n",
    " 'хоча',\n",
    " 'добре',\n",
    " 'свою',\n",
    " 'цій',\n",
    " 'перед',\n",
    " 'інколи',\n",
    " 'краще',\n",
    " 'ледь',\n",
    " 'тому',\n",
    " 'нельзя',\n",
    " 'такий',\n",
    " 'їм',\n",
    " 'понад',\n",
    " 'завжди',\n",
    " 'звісно',\n",
    " 'всю',\n",
    " 'між']"
   ]
  },
  {
   "cell_type": "code",
   "execution_count": 12,
   "metadata": {},
   "outputs": [],
   "source": [
    "# А тепер те саме українською\n",
    "def make_summary_ua(for_text, percent):\n",
    "    nlp = spacy.load('uk_core_news_lg')\n",
    "    doc = nlp(for_text)\n",
    "    #tokens = [token.text for token in doc]\n",
    "    #stop_words = set(stopwords.words('russian'))\n",
    "    # Української там нема, тож підсунемо щось на свій холопський розум\n",
    "    stop_words = get_ua_stop_words()\n",
    "\n",
    "    local_punctuation = punctuation + '\\n'\n",
    "\n",
    "    word_frequencies = {}\n",
    "\n",
    "    for word in doc:\n",
    "        word_text = word.text.lower()\n",
    "        if not (word_text in stop_words or word_text in local_punctuation):\n",
    "            if word_text in word_frequencies.keys():\n",
    "                word_frequencies[word_text] += 1\n",
    "            else:\n",
    "                word_frequencies[word_text] = 1\n",
    "\n",
    "    \n",
    "    # Кажуть, що треба ще зробити нормалізацію\n",
    "    max_freq = max(word_frequencies.values())\n",
    "\n",
    "    for word in word_frequencies.keys():\n",
    "        word_frequencies[word] /= max_freq\n",
    "\n",
    "    \n",
    "    sentences = sent_tokenize(for_text)\n",
    "\n",
    "    sent_scores = {}\n",
    "\n",
    "    for sentence in sentences:\n",
    "        for word in sentence:\n",
    "            word_text = word.lower()\n",
    "\n",
    "            if word_text in word_frequencies.keys():\n",
    "                if sentence in sent_scores.keys():\n",
    "                    sent_scores[sentence] += word_frequencies[word_text]\n",
    "                else:\n",
    "                    sent_scores[sentence] = word_frequencies[word_text]\n",
    "\n",
    "    #for key, value in sent_scores.items():\n",
    "    #    print(key)\n",
    "    #    print(value)\n",
    "\n",
    "    len_sent = int(len(sentences) * percent)\n",
    "\n",
    "    summary = nlargest(len_sent, sent_scores, key = sent_scores.get)\n",
    "\n",
    "    return ' '.join(summary), sent_scores"
   ]
  },
  {
   "cell_type": "code",
   "execution_count": 13,
   "metadata": {},
   "outputs": [
    {
     "data": {
      "text/plain": [
       "'According to Wayne Hale, a flight director from Johnson Space Center, the Space Shuttle orbiter represents a “huge technological leap from expendable rockets and capsules to a reusable, winged, hypersonic, cargo-carrying spacecraft.” Although her base structure followed a conventional aircraft design, she used advanced materials that both minimized her weight for cargo-carrying purposes and featured low thermal expansion ratios, which provided a stable base for her Thermal Protection System (TPS) materials. The Orbiter Discovery, OV-103, is considered eligible for listing in the National Register of Historic Places (NRHP) in the context of the U.S. Space Shuttle Program (1969-2011) under Criterion A in the areas of Space Exploration and Transportation and under Criterion C in the area of Engineering. Under Criterion A, Discovery is significant as the oldest of the three extant orbiter vehicles constructed for the Space Shuttle Program (SSP), the longest running American space program to date; she was the third of five orbiters built by NASA. She had the honor of being chosen as the Return to Flight vehicle after both the Challenger and Columbia accidents.'"
      ]
     },
     "execution_count": 13,
     "metadata": {},
     "output_type": "execute_result"
    }
   ],
   "source": [
    "summary, source = make_summary_en(text, 0.3)\n",
    "summary"
   ]
  },
  {
   "cell_type": "code",
   "execution_count": 14,
   "metadata": {},
   "outputs": [],
   "source": [
    "ua_text = \"\"\"Штучний інтелект (ШІ) — це галузь інформатики, яка займається розробкою інтелектуальних машин, здатних виконувати завдання, які зазвичай потребують людського інтелекту[4]. Системи штучного інтелекту створені для навчання на досвіді, розпізнавання закономірностей і ухвалення рішень на основі вхідних даних. Ці системи можна навчити виконувати певні завдання, наприклад, розпізнавати зображення, розуміти природну мову або грати в ігри. Технологія штучного інтелекту охоплює широкий спектр методів, включаючи машинне навчання, обробку природної мови, робототехніку, експертні системи тощо. Мета досліджень штучного інтелекту полягає в тому, щоб створити машини, які можуть міркувати, розуміти та навчатися, як люди, і використовувати ці можливості для покращення життя людства та вирішення складних проблем[4].\n",
    "\n",
    "У більшості випадків алгоритм розв'язання проблем невідомий наперед. Точного визначення цієї науки немає, оскільки у філософії не розв'язано питання про природу і статус людського інтелекту. Немає і точного критерію досягнення комп'ютером «розумності», хоча перед штучним інтелектом було запропоновано низку гіпотез, наприклад, тест Тюрінга або гіпотеза Ньюелла-Саймона. Нині існує багато підходів як до розуміння задач штучного інтелекту, так і до створення інтелектуальних систем.\n",
    "\n",
    "Класифікація Джека Коупленда виділяє два підходи до розробки штучного інтелекту[5]:\n",
    "\n",
    "низхідний, семіотичний — створення символьних систем, що моделюють високорівневі психічні процеси: мислення, судження, мову, емоції, творчість тощо;\n",
    "висхідний, біологічний — вивчення штучних нейронних мереж і еволюційні обчислення, що моделюють інтелектуальну поведінку на основі менших «неінтелектуальних» елементів.\n",
    "Ця наука пов'язана з нейронаукою, включаючи когнітивну нейронауку, системну нейронауку, обчислювальну нейронауку. Як і всі комп'ютерні науки, вона використовує математичний апарат. Особливе значення для неї мають філософія і робототехніка.\n",
    "\n",
    "Штучний інтелект — відносно молода галузь досліджень, започаткована 1956 року. Її історичний шлях нагадує синусоїду, кожен «зліт» якої ініціювався деякою новою ідеєю. На сьогодні її розвиток перебуває на «підйомі»[6][джерело?] і спирається на застосування вже досягнутих результатів в інших галузях науки, промисловості, бізнесі та навіть у повсякденному житті.\n",
    "\n",
    "На думку футуролога Рея Курцвейля людство досягне Сильного ШІ людського рівня у 2029 році. На думку Ілона Маска — у 2025 році[7]. На відміну від розвитку людського інтелекту, який розвивався десятками тисяч років, Сильний ШІ зможе розвиватись майже експоненціально — за долі секунди перевершити здібності людського розуму в десятки-тисячи-мільйони разів. Момент в майбутній історії, коли ШІ перевершить людський розум називається «технологічною сингулярністю». Що буде після технологічної сингулярності неможливо передбачити, так як людство ще ніколи не мала справу з чимось набагато розумнішим і потужнішим за людський мозок.\n",
    "\n",
    "В березні 2023 року деякі дослідники описали своє дослідження нецензурованої версії ChatGPT на базі GPT-4, що доступна тільки для розробників в OpenAI, ранньою та неповною версією сильного штучного інтелекту (AGI)[8] В середині квітня 2023 року Сем Альтман з OpenAI заявив, що компанія поки припинила тренування GPT-5, у відповідь на лист[9] з відповідним проханням від 50 тисяч людей, зокрема більше 1800 CEO та 1500 професорів, серед яких, Ілон Маск, Стів Возняк, Юваль Гарарі та багато інших людей[10].\n",
    "\n",
    "31 жовтня 2023 року, відповідно до заяви Організації Об’єднаних Націй, Генеральний секретар ООН Антоніу Гутерреш сформував Консультативний орган високого рівня з питань штучного інтелекту, який поєднав групу експертів для надання рекомендацій щодо використання штучного інтелекту[11][12].\"\"\""
   ]
  },
  {
   "cell_type": "code",
   "execution_count": 15,
   "metadata": {},
   "outputs": [
    {
     "data": {
      "text/plain": [
       "\"Класифікація Джека Коупленда виділяє два підходи до розробки штучного інтелекту[5]:\\n\\nнизхідний, семіотичний — створення символьних систем, що моделюють високорівневі психічні процеси: мислення, судження, мову, емоції, творчість тощо;\\nвисхідний, біологічний — вивчення штучних нейронних мереж і еволюційні обчислення, що моделюють інтелектуальну поведінку на основі менших «неінтелектуальних» елементів. Немає і точного критерію досягнення комп'ютером «розумності», хоча перед штучним інтелектом було запропоновано низку гіпотез, наприклад, тест Тюрінга або гіпотеза Ньюелла-Саймона. Її історичний шлях нагадує синусоїду, кожен «зліт» якої ініціювався деякою новою ідеєю. На сьогодні її розвиток перебуває на «підйомі»[6][джерело?] Момент в майбутній історії, коли ШІ перевершить людський розум називається «технологічною сингулярністю». Штучний інтелект (ШІ) — це галузь інформатики, яка займається розробкою інтелектуальних машин, здатних виконувати завдання, які зазвичай потребують людського інтелекту[4]. Штучний інтелект — відносно молода галузь досліджень, започаткована 1956 року.\""
      ]
     },
     "execution_count": 15,
     "metadata": {},
     "output_type": "execute_result"
    }
   ],
   "source": [
    "summary_ua, source_ua = make_summary_ua(ua_text, 0.3)\n",
    "summary_ua"
   ]
  },
  {
   "cell_type": "markdown",
   "metadata": {},
   "source": [
    "Ну... Десь, щось"
   ]
  }
 ],
 "metadata": {
  "kernelspec": {
   "display_name": "Python 3",
   "language": "python",
   "name": "python3"
  },
  "language_info": {
   "codemirror_mode": {
    "name": "ipython",
    "version": 3
   },
   "file_extension": ".py",
   "mimetype": "text/x-python",
   "name": "python",
   "nbconvert_exporter": "python",
   "pygments_lexer": "ipython3",
   "version": "3.9.8"
  }
 },
 "nbformat": 4,
 "nbformat_minor": 2
}
